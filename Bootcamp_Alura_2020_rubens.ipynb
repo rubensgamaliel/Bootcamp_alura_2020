{
  "nbformat": 4,
  "nbformat_minor": 0,
  "metadata": {
    "colab": {
      "name": "Bootcamp Alura 2020 rubens.ipynb",
      "provenance": [],
      "authorship_tag": "ABX9TyPuk6fiuz3yNXwM3OdfzPRS",
      "include_colab_link": true
    },
    "kernelspec": {
      "name": "python3",
      "display_name": "Python 3"
    }
  },
  "cells": [
    {
      "cell_type": "markdown",
      "metadata": {
        "id": "view-in-github",
        "colab_type": "text"
      },
      "source": [
        "<a href=\"https://colab.research.google.com/github/rubensgamaliel/Bootcamp_alura_2020/blob/main/Bootcamp_Alura_2020_rubens.ipynb\" target=\"_parent\"><img src=\"https://colab.research.google.com/assets/colab-badge.svg\" alt=\"Open In Colab\"/></a>"
      ]
    },
    {
      "cell_type": "markdown",
      "metadata": {
        "id": "JNLibEZiVxlm"
      },
      "source": [
        "**Bibliotecas utilizadas**"
      ]
    },
    {
      "cell_type": "code",
      "metadata": {
        "id": "uy81lbOdTu8P"
      },
      "source": [
        "import pandas as pd\n"
      ],
      "execution_count": 1,
      "outputs": []
    },
    {
      "cell_type": "code",
      "metadata": {
        "id": "u4Q5tib4V7eO"
      },
      "source": [
        ""
      ],
      "execution_count": null,
      "outputs": []
    }
  ]
}